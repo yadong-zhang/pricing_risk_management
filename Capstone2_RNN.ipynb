{
 "cells": [
  {
   "cell_type": "code",
   "execution_count": 1,
   "metadata": {
    "collapsed": false
   },
   "outputs": [
    {
     "name": "stderr",
     "output_type": "stream",
     "text": [
      "Using TensorFlow backend.\n"
     ]
    }
   ],
   "source": [
    "import numpy as np\n",
    "import pandas as pd\n",
    "from keras.models import Sequential\n",
    "from keras.layers import Dense\n",
    "from keras.layers import LSTM\n",
    "from keras.models import load_model\n",
    "from keras.utils import np_utils\n",
    "from keras import regularizers\n",
    "import time\n"
   ]
  },
  {
   "cell_type": "code",
   "execution_count": 2,
   "metadata": {
    "collapsed": false
   },
   "outputs": [
    {
     "data": {
      "text/html": [
       "<div>\n",
       "<style>\n",
       "    .dataframe thead tr:only-child th {\n",
       "        text-align: right;\n",
       "    }\n",
       "\n",
       "    .dataframe thead th {\n",
       "        text-align: left;\n",
       "    }\n",
       "\n",
       "    .dataframe tbody tr th {\n",
       "        vertical-align: top;\n",
       "    }\n",
       "</style>\n",
       "<table border=\"1\" class=\"dataframe\">\n",
       "  <thead>\n",
       "    <tr style=\"text-align: right;\">\n",
       "      <th></th>\n",
       "      <th>Date</th>\n",
       "      <th>Open</th>\n",
       "      <th>High</th>\n",
       "      <th>Low</th>\n",
       "      <th>Close</th>\n",
       "      <th>Adj Close</th>\n",
       "      <th>Volume</th>\n",
       "      <th>Difference High</th>\n",
       "      <th>Label</th>\n",
       "    </tr>\n",
       "  </thead>\n",
       "  <tbody>\n",
       "    <tr>\n",
       "      <th>0</th>\n",
       "      <td>29430</td>\n",
       "      <td>0.638281</td>\n",
       "      <td>0.643542</td>\n",
       "      <td>0.633020</td>\n",
       "      <td>0.640034</td>\n",
       "      <td>0.286761</td>\n",
       "      <td>2309500</td>\n",
       "      <td>NaN</td>\n",
       "      <td>NaN</td>\n",
       "    </tr>\n",
       "    <tr>\n",
       "      <th>1</th>\n",
       "      <td>29431</td>\n",
       "      <td>0.645295</td>\n",
       "      <td>0.655816</td>\n",
       "      <td>0.645295</td>\n",
       "      <td>0.655816</td>\n",
       "      <td>0.293831</td>\n",
       "      <td>2224000</td>\n",
       "      <td>0.012274</td>\n",
       "      <td>1.0</td>\n",
       "    </tr>\n",
       "    <tr>\n",
       "      <th>2</th>\n",
       "      <td>29432</td>\n",
       "      <td>0.661077</td>\n",
       "      <td>0.683872</td>\n",
       "      <td>0.661077</td>\n",
       "      <td>0.675105</td>\n",
       "      <td>0.302474</td>\n",
       "      <td>4875700</td>\n",
       "      <td>0.028056</td>\n",
       "      <td>1.0</td>\n",
       "    </tr>\n",
       "    <tr>\n",
       "      <th>3</th>\n",
       "      <td>29433</td>\n",
       "      <td>0.675105</td>\n",
       "      <td>0.675105</td>\n",
       "      <td>0.663049</td>\n",
       "      <td>0.675105</td>\n",
       "      <td>0.302474</td>\n",
       "      <td>3328800</td>\n",
       "      <td>-0.008767</td>\n",
       "      <td>0.0</td>\n",
       "    </tr>\n",
       "    <tr>\n",
       "      <th>4</th>\n",
       "      <td>29434</td>\n",
       "      <td>0.675105</td>\n",
       "      <td>0.687379</td>\n",
       "      <td>0.673351</td>\n",
       "      <td>0.677077</td>\n",
       "      <td>0.303357</td>\n",
       "      <td>5339000</td>\n",
       "      <td>0.012274</td>\n",
       "      <td>1.0</td>\n",
       "    </tr>\n",
       "  </tbody>\n",
       "</table>\n",
       "</div>"
      ],
      "text/plain": [
       "    Date      Open      High       Low     Close  Adj Close   Volume  \\\n",
       "0  29430  0.638281  0.643542  0.633020  0.640034   0.286761  2309500   \n",
       "1  29431  0.645295  0.655816  0.645295  0.655816   0.293831  2224000   \n",
       "2  29432  0.661077  0.683872  0.661077  0.675105   0.302474  4875700   \n",
       "3  29433  0.675105  0.675105  0.663049  0.675105   0.302474  3328800   \n",
       "4  29434  0.675105  0.687379  0.673351  0.677077   0.303357  5339000   \n",
       "\n",
       "   Difference High  Label  \n",
       "0              NaN    NaN  \n",
       "1         0.012274    1.0  \n",
       "2         0.028056    1.0  \n",
       "3        -0.008767    0.0  \n",
       "4         0.012274    1.0  "
      ]
     },
     "execution_count": 2,
     "metadata": {},
     "output_type": "execute_result"
    }
   ],
   "source": [
    "# Import dataset\n",
    "dataset = pd.read_csv('C:/Users/niharika/Desktop/data sciences/Springboard/Capstone 2/Stock/ABT_RNN.csv', encoding = \"utf8\", parse_dates=True)\n",
    "dataset.head()"
   ]
  },
  {
   "cell_type": "code",
   "execution_count": 3,
   "metadata": {
    "collapsed": true
   },
   "outputs": [],
   "source": [
    "#Split to Data samples and labels\n",
    "x = dataset.iloc[1:, 0:7].values\n",
    "y = dataset.iloc[1:, 8].values"
   ]
  },
  {
   "cell_type": "code",
   "execution_count": 4,
   "metadata": {
    "collapsed": false
   },
   "outputs": [
    {
     "data": {
      "text/plain": [
       "array([[  2.94310000e+04,   6.45295000e-01,   6.55816000e-01, ...,\n",
       "          6.55816000e-01,   2.93831000e-01,   2.22400000e+06],\n",
       "       [  2.94320000e+04,   6.61077000e-01,   6.83872000e-01, ...,\n",
       "          6.75105000e-01,   3.02474000e-01,   4.87570000e+06],\n",
       "       [  2.94330000e+04,   6.75105000e-01,   6.75105000e-01, ...,\n",
       "          6.75105000e-01,   3.02474000e-01,   3.32880000e+06],\n",
       "       ..., \n",
       "       [  4.29400000e+04,   5.08100010e+01,   5.09900020e+01, ...,\n",
       "          5.07999990e+01,   5.07999990e+01,   8.58430000e+06],\n",
       "       [  4.29410000e+04,   5.09800000e+01,   5.10000000e+01, ...,\n",
       "          5.08300020e+01,   5.08300020e+01,   5.69280000e+06],\n",
       "       [  4.29420000e+04,   5.07400020e+01,   5.08100010e+01, ...,\n",
       "          5.04000020e+01,   5.04000020e+01,   5.95800000e+06]])"
      ]
     },
     "execution_count": 4,
     "metadata": {},
     "output_type": "execute_result"
    }
   ],
   "source": [
    "x"
   ]
  },
  {
   "cell_type": "code",
   "execution_count": 5,
   "metadata": {
    "collapsed": true
   },
   "outputs": [],
   "source": [
    "#Number of time series to work on is 1 (today depends on yesterday)\n",
    "t=1\n",
    "n_samples= np.floor(len(dataset)/t)"
   ]
  },
  {
   "cell_type": "code",
   "execution_count": 6,
   "metadata": {
    "collapsed": false
   },
   "outputs": [
    {
     "data": {
      "text/plain": [
       "(9330, 7)"
      ]
     },
     "execution_count": 6,
     "metadata": {},
     "output_type": "execute_result"
    }
   ],
   "source": [
    "x.shape"
   ]
  },
  {
   "cell_type": "code",
   "execution_count": 7,
   "metadata": {
    "collapsed": true
   },
   "outputs": [],
   "source": [
    "#Reshape input samples to Nx1x7\n",
    "x = np.reshape(x, (x.shape[0]//t, t, x.shape[1]))\n",
    "\n",
    "#Set labels to these N samples\n",
    "indices=[ind for ind in range(len(y)) if ind%t==0]\n",
    "y=y[indices]"
   ]
  },
  {
   "cell_type": "code",
   "execution_count": 8,
   "metadata": {
    "collapsed": false
   },
   "outputs": [
    {
     "data": {
      "text/plain": [
       "array([ 1.,  1.,  0., ...,  1.,  1.,  0.])"
      ]
     },
     "execution_count": 8,
     "metadata": {},
     "output_type": "execute_result"
    }
   ],
   "source": [
    "y"
   ]
  },
  {
   "cell_type": "code",
   "execution_count": 9,
   "metadata": {
    "collapsed": true
   },
   "outputs": [],
   "source": [
    "# One-hot encode the classes (1.0 and 0.0 will be considered as float values otherwise)\n",
    "from sklearn.preprocessing import LabelEncoder\n",
    "label_encoder=LabelEncoder()\n",
    "y_new=label_encoder.fit_transform(y)\n",
    "y_one_hot=np_utils.to_categorical(y_new)\n",
    "y=y_one_hot"
   ]
  },
  {
   "cell_type": "code",
   "execution_count": 10,
   "metadata": {
    "collapsed": false
   },
   "outputs": [
    {
     "data": {
      "text/plain": [
       "array([[ 0.,  1.],\n",
       "       [ 0.,  1.],\n",
       "       [ 1.,  0.],\n",
       "       ..., \n",
       "       [ 0.,  1.],\n",
       "       [ 0.,  1.],\n",
       "       [ 1.,  0.]])"
      ]
     },
     "execution_count": 10,
     "metadata": {},
     "output_type": "execute_result"
    }
   ],
   "source": [
    "y"
   ]
  },
  {
   "cell_type": "code",
   "execution_count": 11,
   "metadata": {
    "collapsed": true
   },
   "outputs": [],
   "source": [
    "#Split data to training and testing data\n",
    "from sklearn.model_selection import train_test_split\n",
    "X_train, X_test, y_train, y_test = train_test_split(x, y, test_size = 0.2)"
   ]
  },
  {
   "cell_type": "code",
   "execution_count": 12,
   "metadata": {
    "collapsed": true
   },
   "outputs": [],
   "source": [
    "#Construct the model\n",
    "n_neurons=7\n",
    "start_time=time.time()\n",
    "model = Sequential()\n",
    "model.add(LSTM(n_neurons, input_shape=(X_train.shape[1],X_train.shape[2])))\n",
    "model.add(Dense( activation=\"tanh\", kernel_initializer=\"uniform\", units=64, activity_regularizer=regularizers.l2(0.01)))\n",
    "model.add(Dense( activation=\"tanh\", kernel_initializer=\"uniform\", units=32, activity_regularizer=regularizers.l2(0.01)))\n",
    "model.add(Dense( activation=\"softmax\", kernel_initializer=\"uniform\", units=2))\n",
    "model.compile(loss='mse', optimizer='adam',metrics=['accuracy'])"
   ]
  },
  {
   "cell_type": "code",
   "execution_count": 13,
   "metadata": {
    "collapsed": false
   },
   "outputs": [
    {
     "name": "stdout",
     "output_type": "stream",
     "text": [
      "Epoch 1/100\n",
      "7464/7464 [==============================] - 34s - loss: 0.2550 - acc: 0.5263    \n",
      "Epoch 2/100\n",
      "7464/7464 [==============================] - 2s - loss: 0.2494 - acc: 0.5263     \n",
      "Epoch 3/100\n",
      "7464/7464 [==============================] - 1s - loss: 0.2493 - acc: 0.5263     \n",
      "Epoch 4/100\n",
      "7464/7464 [==============================] - 1s - loss: 0.2493 - acc: 0.5263     \n",
      "Epoch 5/100\n",
      "7464/7464 [==============================] - 1s - loss: 0.2493 - acc: 0.5263     \n",
      "Epoch 6/100\n",
      "7464/7464 [==============================] - 1s - loss: 0.2493 - acc: 0.5263     \n",
      "Epoch 7/100\n",
      "7464/7464 [==============================] - 1s - loss: 0.2493 - acc: 0.5263     \n",
      "Epoch 8/100\n",
      "7464/7464 [==============================] - 1s - loss: 0.2493 - acc: 0.5263     \n",
      "Epoch 9/100\n",
      "7464/7464 [==============================] - 1s - loss: 0.2493 - acc: 0.5263     \n",
      "Epoch 10/100\n",
      "7464/7464 [==============================] - 1s - loss: 0.2494 - acc: 0.5263     \n",
      "Epoch 11/100\n",
      "7464/7464 [==============================] - 1s - loss: 0.2494 - acc: 0.5263     \n",
      "Epoch 12/100\n",
      "7464/7464 [==============================] - 1s - loss: 0.2494 - acc: 0.5263     \n",
      "Epoch 13/100\n",
      "7464/7464 [==============================] - 1s - loss: 0.2493 - acc: 0.5263     \n",
      "Epoch 14/100\n",
      "7464/7464 [==============================] - 1s - loss: 0.2493 - acc: 0.5263     \n",
      "Epoch 15/100\n",
      "7464/7464 [==============================] - 1s - loss: 0.2493 - acc: 0.5263     \n",
      "Epoch 16/100\n",
      "7464/7464 [==============================] - 1s - loss: 0.2494 - acc: 0.5263     \n",
      "Epoch 17/100\n",
      "7464/7464 [==============================] - 1s - loss: 0.2493 - acc: 0.5263     \n",
      "Epoch 18/100\n",
      "7464/7464 [==============================] - 1s - loss: 0.2493 - acc: 0.5263     \n",
      "Epoch 19/100\n",
      "7464/7464 [==============================] - 1s - loss: 0.2493 - acc: 0.5263     \n",
      "Epoch 20/100\n",
      "7464/7464 [==============================] - 1s - loss: 0.2494 - acc: 0.5263     \n",
      "Epoch 21/100\n",
      "7464/7464 [==============================] - 1s - loss: 0.2494 - acc: 0.5263     \n",
      "Epoch 22/100\n",
      "7464/7464 [==============================] - 1s - loss: 0.2493 - acc: 0.5263     \n",
      "Epoch 23/100\n",
      "7464/7464 [==============================] - 0s - loss: 0.2493 - acc: 0.5263     \n",
      "Epoch 24/100\n",
      "7464/7464 [==============================] - 0s - loss: 0.2493 - acc: 0.5263     \n",
      "Epoch 25/100\n",
      "7464/7464 [==============================] - 0s - loss: 0.2493 - acc: 0.5263     \n",
      "Epoch 26/100\n",
      "7464/7464 [==============================] - 0s - loss: 0.2494 - acc: 0.5263     \n",
      "Epoch 27/100\n",
      "7464/7464 [==============================] - 0s - loss: 0.2494 - acc: 0.5263     \n",
      "Epoch 28/100\n",
      "7464/7464 [==============================] - 0s - loss: 0.2493 - acc: 0.5263     \n",
      "Epoch 29/100\n",
      "7464/7464 [==============================] - 1s - loss: 0.2493 - acc: 0.5263     \n",
      "Epoch 30/100\n",
      "7464/7464 [==============================] - 1s - loss: 0.2493 - acc: 0.5263     \n",
      "Epoch 31/100\n",
      "7464/7464 [==============================] - 1s - loss: 0.2493 - acc: 0.5263     \n",
      "Epoch 32/100\n",
      "7464/7464 [==============================] - 1s - loss: 0.2493 - acc: 0.5263     \n",
      "Epoch 33/100\n",
      "7464/7464 [==============================] - 0s - loss: 0.2493 - acc: 0.5263     \n",
      "Epoch 34/100\n",
      "7464/7464 [==============================] - 0s - loss: 0.2493 - acc: 0.5263     \n",
      "Epoch 35/100\n",
      "7464/7464 [==============================] - 0s - loss: 0.2493 - acc: 0.5263     \n",
      "Epoch 36/100\n",
      "7464/7464 [==============================] - 1s - loss: 0.2493 - acc: 0.5263     \n",
      "Epoch 37/100\n",
      "7464/7464 [==============================] - 1s - loss: 0.2493 - acc: 0.5263     \n",
      "Epoch 38/100\n",
      "7464/7464 [==============================] - 0s - loss: 0.2493 - acc: 0.5263     \n",
      "Epoch 39/100\n",
      "7464/7464 [==============================] - 0s - loss: 0.2493 - acc: 0.5263     \n",
      "Epoch 40/100\n",
      "7464/7464 [==============================] - 0s - loss: 0.2493 - acc: 0.5263     \n",
      "Epoch 41/100\n",
      "7464/7464 [==============================] - 0s - loss: 0.2493 - acc: 0.5263     \n",
      "Epoch 42/100\n",
      "7464/7464 [==============================] - 1s - loss: 0.2494 - acc: 0.5263     \n",
      "Epoch 43/100\n",
      "7464/7464 [==============================] - 1s - loss: 0.2494 - acc: 0.5263     \n",
      "Epoch 44/100\n",
      "7464/7464 [==============================] - 1s - loss: 0.2493 - acc: 0.5263     \n",
      "Epoch 45/100\n",
      "7464/7464 [==============================] - 1s - loss: 0.2494 - acc: 0.5263     \n",
      "Epoch 46/100\n",
      "7464/7464 [==============================] - 1s - loss: 0.2494 - acc: 0.5263     \n",
      "Epoch 47/100\n",
      "7464/7464 [==============================] - 0s - loss: 0.2493 - acc: 0.5263     \n",
      "Epoch 48/100\n",
      "7464/7464 [==============================] - 0s - loss: 0.2493 - acc: 0.5263     \n",
      "Epoch 49/100\n",
      "7464/7464 [==============================] - 0s - loss: 0.2494 - acc: 0.5263     \n",
      "Epoch 50/100\n",
      "7464/7464 [==============================] - 0s - loss: 0.2493 - acc: 0.5263     \n",
      "Epoch 51/100\n",
      "7464/7464 [==============================] - 0s - loss: 0.2493 - acc: 0.5263     \n",
      "Epoch 52/100\n",
      "7464/7464 [==============================] - 0s - loss: 0.2493 - acc: 0.5263     \n",
      "Epoch 53/100\n",
      "7464/7464 [==============================] - 0s - loss: 0.2493 - acc: 0.5263     \n",
      "Epoch 54/100\n",
      "7464/7464 [==============================] - 0s - loss: 0.2493 - acc: 0.5263     \n",
      "Epoch 55/100\n",
      "7464/7464 [==============================] - 0s - loss: 0.2493 - acc: 0.5263     \n",
      "Epoch 56/100\n",
      "7464/7464 [==============================] - 0s - loss: 0.2493 - acc: 0.5263     \n",
      "Epoch 57/100\n",
      "7464/7464 [==============================] - 0s - loss: 0.2493 - acc: 0.5263     \n",
      "Epoch 58/100\n",
      "7464/7464 [==============================] - 0s - loss: 0.2493 - acc: 0.5263     \n",
      "Epoch 59/100\n",
      "7464/7464 [==============================] - 0s - loss: 0.2493 - acc: 0.5263     \n",
      "Epoch 60/100\n",
      "7464/7464 [==============================] - 0s - loss: 0.2493 - acc: 0.5263     \n",
      "Epoch 61/100\n",
      "7464/7464 [==============================] - 0s - loss: 0.2493 - acc: 0.5263     \n",
      "Epoch 62/100\n",
      "7464/7464 [==============================] - 0s - loss: 0.2493 - acc: 0.5263     \n",
      "Epoch 63/100\n",
      "7464/7464 [==============================] - 0s - loss: 0.2493 - acc: 0.5263     \n",
      "Epoch 64/100\n",
      "7464/7464 [==============================] - 0s - loss: 0.2493 - acc: 0.5263     \n",
      "Epoch 65/100\n",
      "7464/7464 [==============================] - 0s - loss: 0.2493 - acc: 0.5263     \n",
      "Epoch 66/100\n",
      "7464/7464 [==============================] - 0s - loss: 0.2493 - acc: 0.5263     \n",
      "Epoch 67/100\n",
      "7464/7464 [==============================] - 0s - loss: 0.2493 - acc: 0.5263     \n",
      "Epoch 68/100\n",
      "7464/7464 [==============================] - 1s - loss: 0.2493 - acc: 0.5263     \n",
      "Epoch 69/100\n",
      "7464/7464 [==============================] - 1s - loss: 0.2493 - acc: 0.5263     \n",
      "Epoch 70/100\n",
      "7464/7464 [==============================] - 1s - loss: 0.2493 - acc: 0.5263     \n",
      "Epoch 71/100\n",
      "7464/7464 [==============================] - 0s - loss: 0.2493 - acc: 0.5263     \n",
      "Epoch 72/100\n",
      "7464/7464 [==============================] - 1s - loss: 0.2493 - acc: 0.5263     \n",
      "Epoch 73/100\n",
      "7464/7464 [==============================] - 1s - loss: 0.2493 - acc: 0.5263     \n",
      "Epoch 74/100\n",
      "7464/7464 [==============================] - 1s - loss: 0.2493 - acc: 0.5263     \n",
      "Epoch 75/100\n",
      "7464/7464 [==============================] - 1s - loss: 0.2493 - acc: 0.5263     \n",
      "Epoch 76/100\n",
      "7464/7464 [==============================] - 1s - loss: 0.2493 - acc: 0.5263     \n",
      "Epoch 77/100\n",
      "7464/7464 [==============================] - 1s - loss: 0.2493 - acc: 0.5263     \n",
      "Epoch 78/100\n",
      "7464/7464 [==============================] - 1s - loss: 0.2493 - acc: 0.5263     \n",
      "Epoch 79/100\n",
      "7464/7464 [==============================] - 1s - loss: 0.2493 - acc: 0.5263     \n",
      "Epoch 80/100\n",
      "7464/7464 [==============================] - 1s - loss: 0.2493 - acc: 0.5263     \n",
      "Epoch 81/100\n",
      "7464/7464 [==============================] - 1s - loss: 0.2493 - acc: 0.5263     \n",
      "Epoch 82/100\n",
      "7464/7464 [==============================] - 1s - loss: 0.2493 - acc: 0.5263     \n",
      "Epoch 83/100\n",
      "7464/7464 [==============================] - 1s - loss: 0.2493 - acc: 0.5263     \n",
      "Epoch 84/100\n",
      "7464/7464 [==============================] - 1s - loss: 0.2493 - acc: 0.5263     \n",
      "Epoch 85/100\n",
      "7464/7464 [==============================] - 1s - loss: 0.2493 - acc: 0.5263     \n",
      "Epoch 86/100\n",
      "7464/7464 [==============================] - 1s - loss: 0.2493 - acc: 0.5263     \n",
      "Epoch 87/100\n",
      "7464/7464 [==============================] - 1s - loss: 0.2493 - acc: 0.5263     \n",
      "Epoch 88/100\n",
      "7464/7464 [==============================] - 0s - loss: 0.2494 - acc: 0.5263     \n",
      "Epoch 89/100\n",
      "7464/7464 [==============================] - 1s - loss: 0.2494 - acc: 0.5263     \n",
      "Epoch 90/100\n",
      "7464/7464 [==============================] - 1s - loss: 0.2493 - acc: 0.5263     \n",
      "Epoch 91/100\n",
      "7464/7464 [==============================] - 1s - loss: 0.2493 - acc: 0.5263     \n",
      "Epoch 92/100\n",
      "7464/7464 [==============================] - 1s - loss: 0.2493 - acc: 0.5263     \n",
      "Epoch 93/100\n",
      "7464/7464 [==============================] - 1s - loss: 0.2493 - acc: 0.5263     \n",
      "Epoch 94/100\n",
      "7464/7464 [==============================] - 1s - loss: 0.2493 - acc: 0.5263     \n",
      "Epoch 95/100\n",
      "7464/7464 [==============================] - 0s - loss: 0.2493 - acc: 0.5263     \n",
      "Epoch 96/100\n",
      "7464/7464 [==============================] - 0s - loss: 0.2493 - acc: 0.5263     \n",
      "Epoch 97/100\n",
      "7464/7464 [==============================] - 0s - loss: 0.2493 - acc: 0.5263     \n",
      "Epoch 98/100\n",
      "7464/7464 [==============================] - 0s - loss: 0.2493 - acc: 0.5263     \n",
      "Epoch 99/100\n",
      "7464/7464 [==============================] - 0s - loss: 0.2493 - acc: 0.5263     \n",
      "Epoch 100/100\n",
      "7464/7464 [==============================] - 1s - loss: 0.2493 - acc: 0.5263     \n"
     ]
    },
    {
     "data": {
      "text/plain": [
       "<keras.callbacks.History at 0x2694eb61b00>"
      ]
     },
     "execution_count": 13,
     "metadata": {},
     "output_type": "execute_result"
    }
   ],
   "source": [
    "#Train the model \n",
    "model.fit(X_train, y_train, epochs=100, batch_size=100)"
   ]
  },
  {
   "cell_type": "code",
   "execution_count": 14,
   "metadata": {
    "collapsed": false
   },
   "outputs": [
    {
     "name": "stdout",
     "output_type": "stream",
     "text": [
      "2.5500335097312927 Minutes of Execution\n",
      "Model Saved\n"
     ]
    }
   ],
   "source": [
    "#Evaluation of the Training time\n",
    "print(\"%s Minutes of Execution\" %str((time.time()-start_time)/60))\n",
    "\n",
    "#Save the model for prediction\n",
    "model.save('model_test.h5')\n",
    "print (\"Model Saved\")"
   ]
  },
  {
   "cell_type": "code",
   "execution_count": 15,
   "metadata": {
    "collapsed": false
   },
   "outputs": [
    {
     "name": "stdout",
     "output_type": "stream",
     "text": [
      "1866/1866 [==============================] - 1s     \n",
      "acc: 53.11%\n"
     ]
    }
   ],
   "source": [
    "# Evaluate the model on CV Data\n",
    "scores = model.evaluate(X_test, y_test, verbose=1)\n",
    "print (\"%s: %.2f%%\" % (model.metrics_names[1], scores[1]*100))"
   ]
  },
  {
   "cell_type": "code",
   "execution_count": 19,
   "metadata": {
    "collapsed": false
   },
   "outputs": [
    {
     "data": {
      "text/plain": [
       "array([[ 0.52705836,  0.4729417 ],\n",
       "       [ 0.52705836,  0.4729417 ],\n",
       "       [ 0.52705836,  0.4729417 ],\n",
       "       ..., \n",
       "       [ 0.52705836,  0.4729417 ],\n",
       "       [ 0.52705836,  0.4729417 ],\n",
       "       [ 0.52705836,  0.4729417 ]], dtype=float32)"
      ]
     },
     "execution_count": 19,
     "metadata": {},
     "output_type": "execute_result"
    }
   ],
   "source": [
    "pred = model.predict(np.array(X_test)) \n",
    "pred"
   ]
  },
  {
   "cell_type": "markdown",
   "metadata": {},
   "source": [
    "yp = model.predict(X_test, batch_size=32, verbose=1)\n",
    "ypreds = np.argmax(yp, axis=1)\n",
    "print(average_precision_score(ytrue, ypreds))\n",
    "print(accuracy_score(ytrue, ypreds))"
   ]
  },
  {
   "cell_type": "code",
   "execution_count": 18,
   "metadata": {
    "collapsed": false
   },
   "outputs": [
    {
     "ename": "ValueError",
     "evalue": "Mix type of y not allowed, got types {'multilabel-indicator', 'continuous-multioutput'}",
     "output_type": "error",
     "traceback": [
      "\u001b[1;31m---------------------------------------------------------------------------\u001b[0m",
      "\u001b[1;31mValueError\u001b[0m                                Traceback (most recent call last)",
      "\u001b[1;32m<ipython-input-18-ea259ad0c847>\u001b[0m in \u001b[0;36m<module>\u001b[1;34m()\u001b[0m\n\u001b[0;32m      4\u001b[0m \u001b[1;32mfrom\u001b[0m \u001b[0msklearn\u001b[0m\u001b[1;33m.\u001b[0m\u001b[0mmetrics\u001b[0m \u001b[1;32mimport\u001b[0m \u001b[0mconfusion_matrix\u001b[0m\u001b[1;33m\u001b[0m\u001b[0m\n\u001b[0;32m      5\u001b[0m \u001b[1;33m\u001b[0m\u001b[0m\n\u001b[1;32m----> 6\u001b[1;33m \u001b[0mprint\u001b[0m \u001b[1;33m(\u001b[0m\u001b[0mclassification_report\u001b[0m\u001b[1;33m(\u001b[0m\u001b[0my_test\u001b[0m\u001b[1;33m,\u001b[0m \u001b[0mpred\u001b[0m\u001b[1;33m)\u001b[0m\u001b[1;33m)\u001b[0m\u001b[1;33m\u001b[0m\u001b[0m\n\u001b[0m\u001b[0;32m      7\u001b[0m \u001b[0mprint\u001b[0m \u001b[1;33m(\u001b[0m\u001b[0maccuracy_score\u001b[0m\u001b[1;33m(\u001b[0m\u001b[0my_test\u001b[0m\u001b[1;33m,\u001b[0m \u001b[0mpred\u001b[0m\u001b[1;33m)\u001b[0m\u001b[1;33m)\u001b[0m\u001b[1;33m\u001b[0m\u001b[0m\n",
      "\u001b[1;32mc:\\users\\niharika\\anaconda3\\envs\\tensorflow\\lib\\site-packages\\sklearn\\metrics\\classification.py\u001b[0m in \u001b[0;36mclassification_report\u001b[1;34m(y_true, y_pred, labels, target_names, sample_weight, digits)\u001b[0m\n\u001b[0;32m   1389\u001b[0m \u001b[1;33m\u001b[0m\u001b[0m\n\u001b[0;32m   1390\u001b[0m     \u001b[1;32mif\u001b[0m \u001b[0mlabels\u001b[0m \u001b[1;32mis\u001b[0m \u001b[1;32mNone\u001b[0m\u001b[1;33m:\u001b[0m\u001b[1;33m\u001b[0m\u001b[0m\n\u001b[1;32m-> 1391\u001b[1;33m         \u001b[0mlabels\u001b[0m \u001b[1;33m=\u001b[0m \u001b[0munique_labels\u001b[0m\u001b[1;33m(\u001b[0m\u001b[0my_true\u001b[0m\u001b[1;33m,\u001b[0m \u001b[0my_pred\u001b[0m\u001b[1;33m)\u001b[0m\u001b[1;33m\u001b[0m\u001b[0m\n\u001b[0m\u001b[0;32m   1392\u001b[0m     \u001b[1;32melse\u001b[0m\u001b[1;33m:\u001b[0m\u001b[1;33m\u001b[0m\u001b[0m\n\u001b[0;32m   1393\u001b[0m         \u001b[0mlabels\u001b[0m \u001b[1;33m=\u001b[0m \u001b[0mnp\u001b[0m\u001b[1;33m.\u001b[0m\u001b[0masarray\u001b[0m\u001b[1;33m(\u001b[0m\u001b[0mlabels\u001b[0m\u001b[1;33m)\u001b[0m\u001b[1;33m\u001b[0m\u001b[0m\n",
      "\u001b[1;32mc:\\users\\niharika\\anaconda3\\envs\\tensorflow\\lib\\site-packages\\sklearn\\utils\\multiclass.py\u001b[0m in \u001b[0;36munique_labels\u001b[1;34m(*ys)\u001b[0m\n\u001b[0;32m     82\u001b[0m \u001b[1;33m\u001b[0m\u001b[0m\n\u001b[0;32m     83\u001b[0m     \u001b[1;32mif\u001b[0m \u001b[0mlen\u001b[0m\u001b[1;33m(\u001b[0m\u001b[0mys_types\u001b[0m\u001b[1;33m)\u001b[0m \u001b[1;33m>\u001b[0m \u001b[1;36m1\u001b[0m\u001b[1;33m:\u001b[0m\u001b[1;33m\u001b[0m\u001b[0m\n\u001b[1;32m---> 84\u001b[1;33m         \u001b[1;32mraise\u001b[0m \u001b[0mValueError\u001b[0m\u001b[1;33m(\u001b[0m\u001b[1;34m\"Mix type of y not allowed, got types %s\"\u001b[0m \u001b[1;33m%\u001b[0m \u001b[0mys_types\u001b[0m\u001b[1;33m)\u001b[0m\u001b[1;33m\u001b[0m\u001b[0m\n\u001b[0m\u001b[0;32m     85\u001b[0m \u001b[1;33m\u001b[0m\u001b[0m\n\u001b[0;32m     86\u001b[0m     \u001b[0mlabel_type\u001b[0m \u001b[1;33m=\u001b[0m \u001b[0mys_types\u001b[0m\u001b[1;33m.\u001b[0m\u001b[0mpop\u001b[0m\u001b[1;33m(\u001b[0m\u001b[1;33m)\u001b[0m\u001b[1;33m\u001b[0m\u001b[0m\n",
      "\u001b[1;31mValueError\u001b[0m: Mix type of y not allowed, got types {'multilabel-indicator', 'continuous-multioutput'}"
     ]
    }
   ],
   "source": [
    "from sklearn.metrics import classification_report\n",
    "from sklearn.metrics import f1_score\n",
    "from sklearn.metrics import accuracy_score \n",
    "from sklearn.metrics import confusion_matrix\n",
    "\n",
    "print (classification_report(y_test, pred))\n",
    "print (accuracy_score(y_test, pred))"
   ]
  },
  {
   "cell_type": "markdown",
   "metadata": {},
   "source": [
    "import pandas as pd"
   ]
  },
  {
   "cell_type": "markdown",
   "metadata": {},
   "source": [
    "pd.crosstab(y_test, pred, rownames=[\"Actual\"], colnames=[\"Predicted\"])"
   ]
  },
  {
   "cell_type": "code",
   "execution_count": null,
   "metadata": {
    "collapsed": true
   },
   "outputs": [],
   "source": []
  }
 ],
 "metadata": {
  "kernelspec": {
   "display_name": "Python 3",
   "language": "python",
   "name": "python3"
  },
  "language_info": {
   "codemirror_mode": {
    "name": "ipython",
    "version": 3
   },
   "file_extension": ".py",
   "mimetype": "text/x-python",
   "name": "python",
   "nbconvert_exporter": "python",
   "pygments_lexer": "ipython3",
   "version": "3.6.0"
  }
 },
 "nbformat": 4,
 "nbformat_minor": 2
}
